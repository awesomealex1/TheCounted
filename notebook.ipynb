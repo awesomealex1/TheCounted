{
 "cells": [
  {
   "cell_type": "markdown",
   "metadata": {},
   "source": [
    "#Getting started with the data\n",
    "First load the data and see what features are within the dataset. Since there are two seperate csv files we have to merge them into one dataframe. There are 16 columns and 2226 rows. Most of them seem to be non-null with only some rows missing information about latitude, longitude and streetaddress."
   ]
  },
  {
   "cell_type": "code",
   "execution_count": 1,
   "metadata": {},
   "outputs": [
    {
     "name": "stdout",
     "output_type": "stream",
     "text": [
      "<class 'pandas.core.frame.DataFrame'>\n",
      "Int64Index: 2226 entries, 0 to 1079\n",
      "Data columns (total 16 columns):\n",
      " #   Column                Non-Null Count  Dtype  \n",
      "---  ------                --------------  -----  \n",
      " 0   uid                   2226 non-null   int64  \n",
      " 1   name                  2226 non-null   object \n",
      " 2   age                   2226 non-null   object \n",
      " 3   gender                2226 non-null   object \n",
      " 4   raceethnicity         2226 non-null   object \n",
      " 5   armed                 2226 non-null   object \n",
      " 6   month                 2226 non-null   object \n",
      " 7   day                   2226 non-null   int64  \n",
      " 8   year                  2226 non-null   int64  \n",
      " 9   streetaddress         2194 non-null   object \n",
      " 10  city                  2226 non-null   object \n",
      " 11  state                 2226 non-null   object \n",
      " 12  latitude              2156 non-null   float64\n",
      " 13  longitude             2156 non-null   float64\n",
      " 14  classification        2226 non-null   object \n",
      " 15  lawenforcementagency  2226 non-null   object \n",
      "dtypes: float64(2), int64(3), object(11)\n",
      "memory usage: 295.6+ KB\n"
     ]
    }
   ],
   "source": [
    "import pandas as pd\n",
    "data_2015 = pd.read_csv(\"data/2015.csv\",encoding='latin-1')\n",
    "data_2016 = pd.read_csv(\"data/2016.csv\",encoding='latin-1')\n",
    "data = pd.concat([data_2015, data_2016])\n",
    "data.info()"
   ]
  },
  {
   "cell_type": "markdown",
   "metadata": {},
   "source": [
    "Loading the first 5 rows shows us what the data looks like."
   ]
  },
  {
   "cell_type": "code",
   "execution_count": 2,
   "metadata": {},
   "outputs": [
    {
     "data": {
      "text/html": [
       "<div>\n",
       "<style scoped>\n",
       "    .dataframe tbody tr th:only-of-type {\n",
       "        vertical-align: middle;\n",
       "    }\n",
       "\n",
       "    .dataframe tbody tr th {\n",
       "        vertical-align: top;\n",
       "    }\n",
       "\n",
       "    .dataframe thead th {\n",
       "        text-align: right;\n",
       "    }\n",
       "</style>\n",
       "<table border=\"1\" class=\"dataframe\">\n",
       "  <thead>\n",
       "    <tr style=\"text-align: right;\">\n",
       "      <th></th>\n",
       "      <th>uid</th>\n",
       "      <th>name</th>\n",
       "      <th>age</th>\n",
       "      <th>gender</th>\n",
       "      <th>raceethnicity</th>\n",
       "      <th>armed</th>\n",
       "      <th>month</th>\n",
       "      <th>day</th>\n",
       "      <th>year</th>\n",
       "      <th>streetaddress</th>\n",
       "      <th>city</th>\n",
       "      <th>state</th>\n",
       "      <th>latitude</th>\n",
       "      <th>longitude</th>\n",
       "      <th>classification</th>\n",
       "      <th>lawenforcementagency</th>\n",
       "    </tr>\n",
       "  </thead>\n",
       "  <tbody>\n",
       "    <tr>\n",
       "      <th>0</th>\n",
       "      <td>2</td>\n",
       "      <td>Matthew Ajibade</td>\n",
       "      <td>22</td>\n",
       "      <td>Male</td>\n",
       "      <td>Black</td>\n",
       "      <td>No</td>\n",
       "      <td>January</td>\n",
       "      <td>1</td>\n",
       "      <td>2015</td>\n",
       "      <td>1050 Carl Griffin Dr</td>\n",
       "      <td>Savannah</td>\n",
       "      <td>GA</td>\n",
       "      <td>32.066691</td>\n",
       "      <td>-81.167881</td>\n",
       "      <td>Death in custody</td>\n",
       "      <td>Chatham County Sheriff's Office</td>\n",
       "    </tr>\n",
       "    <tr>\n",
       "      <th>1</th>\n",
       "      <td>4</td>\n",
       "      <td>Lewis Lembke</td>\n",
       "      <td>47</td>\n",
       "      <td>Male</td>\n",
       "      <td>White</td>\n",
       "      <td>Firearm</td>\n",
       "      <td>January</td>\n",
       "      <td>2</td>\n",
       "      <td>2015</td>\n",
       "      <td>4505 SW Masters Loop</td>\n",
       "      <td>Aloha</td>\n",
       "      <td>OR</td>\n",
       "      <td>45.487473</td>\n",
       "      <td>-122.891698</td>\n",
       "      <td>Gunshot</td>\n",
       "      <td>Washington County Sheriff's Office</td>\n",
       "    </tr>\n",
       "    <tr>\n",
       "      <th>2</th>\n",
       "      <td>5</td>\n",
       "      <td>Michael Kocher Jr</td>\n",
       "      <td>19</td>\n",
       "      <td>Male</td>\n",
       "      <td>White</td>\n",
       "      <td>No</td>\n",
       "      <td>January</td>\n",
       "      <td>3</td>\n",
       "      <td>2015</td>\n",
       "      <td>2600 Kaumualii Hwy</td>\n",
       "      <td>Kaumakani</td>\n",
       "      <td>HI</td>\n",
       "      <td>21.933347</td>\n",
       "      <td>-159.641972</td>\n",
       "      <td>Struck by vehicle</td>\n",
       "      <td>Kauai Police Department</td>\n",
       "    </tr>\n",
       "    <tr>\n",
       "      <th>3</th>\n",
       "      <td>6</td>\n",
       "      <td>John Quintero</td>\n",
       "      <td>23</td>\n",
       "      <td>Male</td>\n",
       "      <td>Hispanic/Latino</td>\n",
       "      <td>No</td>\n",
       "      <td>January</td>\n",
       "      <td>3</td>\n",
       "      <td>2015</td>\n",
       "      <td>500 North Oliver Ave</td>\n",
       "      <td>Wichita</td>\n",
       "      <td>KS</td>\n",
       "      <td>37.693797</td>\n",
       "      <td>-97.280549</td>\n",
       "      <td>Gunshot</td>\n",
       "      <td>Wichita Police Department</td>\n",
       "    </tr>\n",
       "    <tr>\n",
       "      <th>4</th>\n",
       "      <td>7</td>\n",
       "      <td>Tim Elliott</td>\n",
       "      <td>53</td>\n",
       "      <td>Male</td>\n",
       "      <td>Asian/Pacific Islander</td>\n",
       "      <td>Firearm</td>\n",
       "      <td>January</td>\n",
       "      <td>2</td>\n",
       "      <td>2015</td>\n",
       "      <td>600 E Island Lake Dr</td>\n",
       "      <td>Shelton</td>\n",
       "      <td>WA</td>\n",
       "      <td>47.246534</td>\n",
       "      <td>-123.119497</td>\n",
       "      <td>Gunshot</td>\n",
       "      <td>Mason County Sheriff's Office</td>\n",
       "    </tr>\n",
       "  </tbody>\n",
       "</table>\n",
       "</div>"
      ],
      "text/plain": [
       "   uid               name age gender           raceethnicity    armed  \\\n",
       "0    2    Matthew Ajibade  22   Male                   Black       No   \n",
       "1    4       Lewis Lembke  47   Male                   White  Firearm   \n",
       "2    5  Michael Kocher Jr  19   Male                   White       No   \n",
       "3    6      John Quintero  23   Male         Hispanic/Latino       No   \n",
       "4    7        Tim Elliott  53   Male  Asian/Pacific Islander  Firearm   \n",
       "\n",
       "     month  day  year         streetaddress       city state   latitude  \\\n",
       "0  January    1  2015  1050 Carl Griffin Dr   Savannah    GA  32.066691   \n",
       "1  January    2  2015  4505 SW Masters Loop      Aloha    OR  45.487473   \n",
       "2  January    3  2015    2600 Kaumualii Hwy  Kaumakani    HI  21.933347   \n",
       "3  January    3  2015  500 North Oliver Ave    Wichita    KS  37.693797   \n",
       "4  January    2  2015  600 E Island Lake Dr    Shelton    WA  47.246534   \n",
       "\n",
       "    longitude     classification                lawenforcementagency  \n",
       "0  -81.167881   Death in custody     Chatham County Sheriff's Office  \n",
       "1 -122.891698            Gunshot  Washington County Sheriff's Office  \n",
       "2 -159.641972  Struck by vehicle             Kauai Police Department  \n",
       "3  -97.280549            Gunshot           Wichita Police Department  \n",
       "4 -123.119497            Gunshot       Mason County Sheriff's Office  "
      ]
     },
     "execution_count": 2,
     "metadata": {},
     "output_type": "execute_result"
    }
   ],
   "source": [
    "data.head()"
   ]
  },
  {
   "cell_type": "markdown",
   "metadata": {},
   "source": [
    "#Making some graphs\n",
    "Let's first make a graph that show how people die, depending on what type of weapon they were carrying"
   ]
  },
  {
   "cell_type": "code",
   "execution_count": 69,
   "metadata": {},
   "outputs": [
    {
     "data": {
      "image/png": "[encoded data removed]",
      "text/plain": [
       "<Figure size 1152x720 with 1 Axes>"
      ]
     },
     "metadata": {
      "needs_background": "light"
     },
     "output_type": "display_data"
    }
   ],
   "source": [
    "import numpy as np\n",
    "import seaborn as sns\n",
    "import matplotlib.pyplot as plt\n",
    "\n",
    "plt.figure(figsize=(16, 10))\n",
    "\n",
    "x = data.groupby(['armed', 'classification']).size()\n",
    "ax = sns.countplot(x=\"armed\", hue=\"classification\", data=data)\n",
    "for p in ax.patches:\n",
    "    height = p.get_height()\n",
    "    label = \"\"\n",
    "    if str(height) == \"nan\":\n",
    "        height = 0\n",
    "    ax.text(p.get_x()+p.get_width()/2.,\n",
    "            height+3,\n",
    "            int(height),\n",
    "            ha=\"center\") \n",
    "plt.show()"
   ]
  },
  {
   "cell_type": "markdown",
   "metadata": {},
   "source": [
    "What about a graph that shows in which months most people get killed?"
   ]
  },
  {
   "cell_type": "code",
   "execution_count": null,
   "metadata": {},
   "outputs": [],
   "source": []
  }
 ],
 "metadata": {
  "file_extension": ".py",
  "kernelspec": {
   "display_name": "Python 3",
   "language": "python",
   "name": "python3"
  },
  "language_info": {
   "codemirror_mode": {
    "name": "ipython",
    "version": 3
   },
   "file_extension": ".py",
   "mimetype": "text/x-python",
   "name": "python",
   "nbconvert_exporter": "python",
   "pygments_lexer": "ipython3",
   "version": "3.8.1"
  },
  "mimetype": "text/x-python",
  "name": "python",
  "npconvert_exporter": "python",
  "pygments_lexer": "ipython3",
  "version": 3
 },
 "nbformat": 4,
 "nbformat_minor": 2
}
